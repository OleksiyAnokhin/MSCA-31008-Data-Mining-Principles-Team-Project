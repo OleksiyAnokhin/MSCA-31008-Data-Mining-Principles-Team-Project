{
 "cells": [
  {
   "cell_type": "markdown",
   "metadata": {},
   "source": [
    "### Oleksiy Anokhin | (August 17, 2020)\n",
    "\n",
    "### Starbucks App Customer Rewards Program\n",
    "\n",
    "### MSCA 31008 | Data Mining Principles | Professor U. Pamuksuz | Team Project\n",
    "\n",
    "**Business problem:**\n",
    "\n",
    "Predict the time difference (the number of hours) between vieweing and completing the offer. \n",
    "\n",
    "Why is it important? Understanding this, we will be able to target certaing customers additionally. For example, if we can predict the time difference and some customers take much more time, we can send them one more reminder. At the same time, we will not bother other customers, who are expected to complete offer soon and annoy them with additional spam. \n",
    "\n",
    "Three main columns for this type of analysis:\n",
    "\n",
    "- `viewed time` (how much hours the user spends before vieweing the offer after receiving it)\n",
    "- `completed time` (how much hours the user spends before competing the offer after vieweing it)\n",
    "- `time_completed_viewed` (the difference. 0 in difference means the customer completed the offer immediately after vieweing it)"
   ]
  },
  {
   "cell_type": "markdown",
   "metadata": {},
   "source": [
    "**1. Data Cleaning | EDA | Feature Engineering**"
   ]
  },
  {
   "cell_type": "code",
   "execution_count": 1,
   "metadata": {},
   "outputs": [
    {
     "name": "stderr",
     "output_type": "stream",
     "text": [
      "C:\\Users\\oleks\\Anaconda3\\lib\\site-packages\\statsmodels\\tools\\_testing.py:19: FutureWarning: pandas.util.testing is deprecated. Use the functions in the public API at pandas.testing instead.\n",
      "  import pandas.util.testing as tm\n"
     ]
    }
   ],
   "source": [
    "# Import libraries\n",
    "import pandas as pd\n",
    "import numpy as np\n",
    "import matplotlib.pyplot as plt\n",
    "import seaborn as sns\n",
    "from sklearn.tree import DecisionTreeClassifier\n",
    "from sklearn.metrics import classification_report\n",
    "from sklearn.model_selection import cross_val_score\n",
    "import sklearn.model_selection as cv\n",
    "from sklearn.metrics import mean_squared_error as MSE\n",
    "from sklearn.model_selection import train_test_split \n",
    "from sklearn import metrics\n",
    "from sklearn.metrics import confusion_matrix \n",
    "from sklearn.metrics import accuracy_score \n",
    "from sklearn.ensemble import RandomForestClassifier\n",
    "from sklearn.utils import check_random_state\n",
    "from sklearn.decomposition import PCA\n",
    "from sklearn.tree import DecisionTreeRegressor\n",
    "from sklearn.ensemble import RandomForestRegressor\n",
    "from sklearn.neighbors import KNeighborsRegressor\n",
    "from sklearn.preprocessing import StandardScaler\n",
    "from scipy import stats\n",
    "from sklearn.ensemble import GradientBoostingRegressor\n",
    "from sklearn.svm import SVR\n",
    "from sklearn.ensemble import AdaBoostRegressor\n",
    "import smogn\n",
    "from sklearn.linear_model import LogisticRegression \n",
    "from sklearn.metrics import confusion_matrix, classification_report \n",
    "import pycaret\n",
    "from pycaret.utils import version\n",
    "from pycaret.regression import *\n",
    "from pycaret.classification import *\n",
    "import imblearn\n",
    "from collections import Counter\n",
    "import imblearn\n",
    "from imblearn import under_sampling, over_sampling\n",
    "from imblearn.over_sampling import SMOTE\n",
    "from imblearn.pipeline import Pipeline \n",
    "from sklearn.ensemble import RandomForestClassifier\n",
    "from sklearn.tree import DecisionTreeClassifier\n",
    "from sklearn import svm"
   ]
  },
  {
   "cell_type": "code",
   "execution_count": 19,
   "metadata": {},
   "outputs": [],
   "source": [
    "# Set additional parameters\n",
    "# Remove column display limits\n",
    "pd.set_option('display.max_columns', None)\n",
    "# pd.set_option('display.height', None)\n",
    "pd.set_option('display.max_rows', None)\n",
    "# pd.set_option('display.width', None)\n",
    "plt.rcParams['figure.figsize'] = [15, 10]\n",
    "sns.set_style(\"white\")\n",
    "\n",
    "# Create palette\n",
    "starbucks_palette = [\"#00704A\", \"#362415\", \"#eac784\", \"#604c4c\"]"
   ]
  },
  {
   "cell_type": "code",
   "execution_count": 20,
   "metadata": {},
   "outputs": [
    {
     "name": "stderr",
     "output_type": "stream",
     "text": [
      "C:\\Users\\oleks\\Anaconda3\\lib\\site-packages\\IPython\\core\\interactiveshell.py:3058: DtypeWarning: Columns (2) have mixed types.Specify dtype option on import or set low_memory=False.\n",
      "  interactivity=interactivity, compiler=compiler, result=result)\n"
     ]
    },
    {
     "data": {
      "text/plain": [
       "(147508, 29)"
      ]
     },
     "execution_count": 20,
     "metadata": {},
     "output_type": "execute_result"
    }
   ],
   "source": [
    "# Read clean data\n",
    "starbucks = pd.read_csv('starbucks.csv')\n",
    "\n",
    "# Drop columns\n",
    "starbucks = starbucks.drop(['Unnamed: 0'], axis = 1)\n",
    "\n",
    "# Dimensions\n",
    "starbucks.shape"
   ]
  },
  {
   "cell_type": "markdown",
   "metadata": {},
   "source": [
    "**Important:** We can see that the total number of our transactions is almost 150000. But I am making an assumption that 0 in difference means the customer completed the offer immediately after vieweing it. As a result, I remove all rows with zeros from this dataframe, which decreases the dataframe to 17000 rows only (by more that 85%)."
   ]
  },
  {
   "cell_type": "code",
   "execution_count": 21,
   "metadata": {},
   "outputs": [
    {
     "data": {
      "text/plain": [
       "(17228, 29)"
      ]
     },
     "execution_count": 21,
     "metadata": {},
     "output_type": "execute_result"
    }
   ],
   "source": [
    "# Drop rows where completed_time = 0\n",
    "starbucks = starbucks[starbucks.completed_time != 0]\n",
    "starbucks = starbucks[starbucks.time_completed_viewed > 0]\n",
    "\n",
    "# Dimensions\n",
    "starbucks.shape"
   ]
  },
  {
   "cell_type": "code",
   "execution_count": 22,
   "metadata": {},
   "outputs": [
    {
     "data": {
      "text/plain": [
       "<matplotlib.axes._subplots.AxesSubplot at 0x26743a4b2c8>"
      ]
     },
     "execution_count": 22,
     "metadata": {},
     "output_type": "execute_result"
    },
    {
     "data": {
      "image/png": "[encoded data removed]",
      "text/plain": [
       "<Figure size 1080x720 with 1 Axes>"
      ]
     },
     "metadata": {},
     "output_type": "display_data"
    }
   ],
   "source": [
    "# Histogram of time_completed_viewed \n",
    "starbucks.time_completed_viewed.hist(bins = 50, color = '#00704A')\n",
    "# As we can see, our histogram is positively skewed again. "
   ]
  },
  {
   "cell_type": "code",
   "execution_count": 23,
   "metadata": {},
   "outputs": [],
   "source": [
    "# # Log transformation of y variable\n",
    "\n",
    "# # Create a copy\n",
    "# starbucks_log = starbucks.copy()\n",
    "# starbucks_log.time_completed_viewed = np.log(starbucks_log.time_completed_viewed)"
   ]
  },
  {
   "cell_type": "code",
   "execution_count": 24,
   "metadata": {},
   "outputs": [],
   "source": [
    "# # Print \n",
    "# starbucks_log.head()"
   ]
  },
  {
   "cell_type": "code",
   "execution_count": 25,
   "metadata": {},
   "outputs": [],
   "source": [
    "# # Check correlation \n",
    "# cor = starbucks_log.corr()\n",
    "# cor.loc[:,:] = np.tril(cor, k=-1) \n",
    "# cor = cor.stack()\n",
    "# cor[(cor > 0.55) | (cor < -0.55)]"
   ]
  },
  {
   "cell_type": "code",
   "execution_count": 26,
   "metadata": {},
   "outputs": [],
   "source": [
    "# Select variables\n",
    "starbucks = starbucks[['time_completed_viewed', 'amount', 'male', 'age', 'income', 'viewed_time',\n",
    "                       'total_reward', 'membership_days', 'difficulty', 'duration', 'transaction', 'offer_viewed',\n",
    "                       'offer_received', 'offer_completed']]"
   ]
  },
  {
   "cell_type": "code",
   "execution_count": 27,
   "metadata": {},
   "outputs": [
    {
     "data": {
      "text/plain": [
       "duration  difficulty    0.55802\n",
       "dtype: float64"
      ]
     },
     "execution_count": 27,
     "metadata": {},
     "output_type": "execute_result"
    }
   ],
   "source": [
    "# Check correlation again\n",
    "cor = starbucks.corr()\n",
    "cor.loc[:,:] = np.tril(cor, k=-1) \n",
    "cor = cor.stack()\n",
    "cor[(cor > 0.55) | (cor < -0.55)]"
   ]
  },
  {
   "cell_type": "code",
   "execution_count": 28,
   "metadata": {},
   "outputs": [
    {
     "data": {
      "text/html": [
       "<div>\n",
       "<style scoped>\n",
       "    .dataframe tbody tr th:only-of-type {\n",
       "        vertical-align: middle;\n",
       "    }\n",
       "\n",
       "    .dataframe tbody tr th {\n",
       "        vertical-align: top;\n",
       "    }\n",
       "\n",
       "    .dataframe thead th {\n",
       "        text-align: right;\n",
       "    }\n",
       "</style>\n",
       "<table border=\"1\" class=\"dataframe\">\n",
       "  <thead>\n",
       "    <tr style=\"text-align: right;\">\n",
       "      <th></th>\n",
       "      <th>time_completed_viewed</th>\n",
       "      <th>amount</th>\n",
       "      <th>male</th>\n",
       "      <th>age</th>\n",
       "      <th>income</th>\n",
       "      <th>viewed_time</th>\n",
       "      <th>total_reward</th>\n",
       "      <th>membership_days</th>\n",
       "      <th>difficulty</th>\n",
       "      <th>duration</th>\n",
       "      <th>transaction</th>\n",
       "      <th>offer_viewed</th>\n",
       "      <th>offer_received</th>\n",
       "      <th>offer_completed</th>\n",
       "    </tr>\n",
       "  </thead>\n",
       "  <tbody>\n",
       "    <tr>\n",
       "      <th>0</th>\n",
       "      <td>54.0</td>\n",
       "      <td>16.06</td>\n",
       "      <td>0</td>\n",
       "      <td>45</td>\n",
       "      <td>62000.0</td>\n",
       "      <td>6.0</td>\n",
       "      <td>2.0</td>\n",
       "      <td>608</td>\n",
       "      <td>10.0</td>\n",
       "      <td>10.0</td>\n",
       "      <td>1.0</td>\n",
       "      <td>1.0</td>\n",
       "      <td>1</td>\n",
       "      <td>1.0</td>\n",
       "    </tr>\n",
       "    <tr>\n",
       "      <th>2</th>\n",
       "      <td>120.0</td>\n",
       "      <td>14.00</td>\n",
       "      <td>1</td>\n",
       "      <td>71</td>\n",
       "      <td>73000.0</td>\n",
       "      <td>273.0</td>\n",
       "      <td>4.0</td>\n",
       "      <td>268</td>\n",
       "      <td>10.0</td>\n",
       "      <td>10.0</td>\n",
       "      <td>1.0</td>\n",
       "      <td>1.0</td>\n",
       "      <td>1</td>\n",
       "      <td>1.0</td>\n",
       "    </tr>\n",
       "    <tr>\n",
       "      <th>5</th>\n",
       "      <td>54.0</td>\n",
       "      <td>24.41</td>\n",
       "      <td>0</td>\n",
       "      <td>87</td>\n",
       "      <td>47000.0</td>\n",
       "      <td>0.0</td>\n",
       "      <td>2.0</td>\n",
       "      <td>498</td>\n",
       "      <td>10.0</td>\n",
       "      <td>10.0</td>\n",
       "      <td>1.0</td>\n",
       "      <td>1.0</td>\n",
       "      <td>1</td>\n",
       "      <td>1.0</td>\n",
       "    </tr>\n",
       "    <tr>\n",
       "      <th>6</th>\n",
       "      <td>168.0</td>\n",
       "      <td>24.08</td>\n",
       "      <td>0</td>\n",
       "      <td>67</td>\n",
       "      <td>95000.0</td>\n",
       "      <td>336.0</td>\n",
       "      <td>2.0</td>\n",
       "      <td>5</td>\n",
       "      <td>10.0</td>\n",
       "      <td>10.0</td>\n",
       "      <td>1.0</td>\n",
       "      <td>1.0</td>\n",
       "      <td>1</td>\n",
       "      <td>1.0</td>\n",
       "    </tr>\n",
       "    <tr>\n",
       "      <th>7</th>\n",
       "      <td>60.0</td>\n",
       "      <td>28.03</td>\n",
       "      <td>0</td>\n",
       "      <td>57</td>\n",
       "      <td>118000.0</td>\n",
       "      <td>426.0</td>\n",
       "      <td>2.0</td>\n",
       "      <td>1058</td>\n",
       "      <td>10.0</td>\n",
       "      <td>10.0</td>\n",
       "      <td>1.0</td>\n",
       "      <td>1.0</td>\n",
       "      <td>1</td>\n",
       "      <td>1.0</td>\n",
       "    </tr>\n",
       "  </tbody>\n",
       "</table>\n",
       "</div>"
      ],
      "text/plain": [
       "   time_completed_viewed  amount  male  age    income  viewed_time  \\\n",
       "0                   54.0   16.06     0   45   62000.0          6.0   \n",
       "2                  120.0   14.00     1   71   73000.0        273.0   \n",
       "5                   54.0   24.41     0   87   47000.0          0.0   \n",
       "6                  168.0   24.08     0   67   95000.0        336.0   \n",
       "7                   60.0   28.03     0   57  118000.0        426.0   \n",
       "\n",
       "   total_reward  membership_days  difficulty  duration  transaction  \\\n",
       "0           2.0              608        10.0      10.0          1.0   \n",
       "2           4.0              268        10.0      10.0          1.0   \n",
       "5           2.0              498        10.0      10.0          1.0   \n",
       "6           2.0                5        10.0      10.0          1.0   \n",
       "7           2.0             1058        10.0      10.0          1.0   \n",
       "\n",
       "   offer_viewed  offer_received  offer_completed  \n",
       "0           1.0               1              1.0  \n",
       "2           1.0               1              1.0  \n",
       "5           1.0               1              1.0  \n",
       "6           1.0               1              1.0  \n",
       "7           1.0               1              1.0  "
      ]
     },
     "execution_count": 28,
     "metadata": {},
     "output_type": "execute_result"
    }
   ],
   "source": [
    "# Print\n",
    "starbucks.head()"
   ]
  },
  {
   "cell_type": "code",
   "execution_count": 29,
   "metadata": {},
   "outputs": [],
   "source": [
    "# Standartize columns \n",
    "scaler = StandardScaler()\n",
    "starbucks[['amount', 'income', 'age', 'viewed_time', 'total_reward', 'membership_days', 'difficulty', \n",
    "           'duration']] = scaler.fit_transform(starbucks[['amount', 'income', 'age', 'viewed_time', 'total_reward', \n",
    "                                                          'membership_days', 'difficulty', 'duration']])"
   ]
  },
  {
   "cell_type": "code",
   "execution_count": 30,
   "metadata": {},
   "outputs": [
    {
     "data": {
      "text/html": [
       "<div>\n",
       "<style scoped>\n",
       "    .dataframe tbody tr th:only-of-type {\n",
       "        vertical-align: middle;\n",
       "    }\n",
       "\n",
       "    .dataframe tbody tr th {\n",
       "        vertical-align: top;\n",
       "    }\n",
       "\n",
       "    .dataframe thead th {\n",
       "        text-align: right;\n",
       "    }\n",
       "</style>\n",
       "<table border=\"1\" class=\"dataframe\">\n",
       "  <thead>\n",
       "    <tr style=\"text-align: right;\">\n",
       "      <th></th>\n",
       "      <th>time_completed_viewed</th>\n",
       "      <th>amount</th>\n",
       "      <th>male</th>\n",
       "      <th>age</th>\n",
       "      <th>income</th>\n",
       "      <th>viewed_time</th>\n",
       "      <th>total_reward</th>\n",
       "      <th>membership_days</th>\n",
       "      <th>difficulty</th>\n",
       "      <th>duration</th>\n",
       "      <th>transaction</th>\n",
       "      <th>offer_viewed</th>\n",
       "      <th>offer_received</th>\n",
       "      <th>offer_completed</th>\n",
       "    </tr>\n",
       "  </thead>\n",
       "  <tbody>\n",
       "    <tr>\n",
       "      <th>0</th>\n",
       "      <td>54.0</td>\n",
       "      <td>-0.178872</td>\n",
       "      <td>0</td>\n",
       "      <td>-0.639364</td>\n",
       "      <td>-0.310325</td>\n",
       "      <td>-1.844060</td>\n",
       "      <td>-0.880689</td>\n",
       "      <td>0.036974</td>\n",
       "      <td>0.302756</td>\n",
       "      <td>1.51035</td>\n",
       "      <td>1.0</td>\n",
       "      <td>1.0</td>\n",
       "      <td>1</td>\n",
       "      <td>1.0</td>\n",
       "    </tr>\n",
       "    <tr>\n",
       "      <th>2</th>\n",
       "      <td>120.0</td>\n",
       "      <td>-0.222823</td>\n",
       "      <td>1</td>\n",
       "      <td>0.912089</td>\n",
       "      <td>0.208567</td>\n",
       "      <td>-0.386243</td>\n",
       "      <td>-0.424613</td>\n",
       "      <td>-0.788151</td>\n",
       "      <td>0.302756</td>\n",
       "      <td>1.51035</td>\n",
       "      <td>1.0</td>\n",
       "      <td>1.0</td>\n",
       "      <td>1</td>\n",
       "      <td>1.0</td>\n",
       "    </tr>\n",
       "    <tr>\n",
       "      <th>5</th>\n",
       "      <td>54.0</td>\n",
       "      <td>-0.000723</td>\n",
       "      <td>0</td>\n",
       "      <td>1.866829</td>\n",
       "      <td>-1.017905</td>\n",
       "      <td>-1.876820</td>\n",
       "      <td>-0.880689</td>\n",
       "      <td>-0.229978</td>\n",
       "      <td>0.302756</td>\n",
       "      <td>1.51035</td>\n",
       "      <td>1.0</td>\n",
       "      <td>1.0</td>\n",
       "      <td>1</td>\n",
       "      <td>1.0</td>\n",
       "    </tr>\n",
       "    <tr>\n",
       "      <th>6</th>\n",
       "      <td>168.0</td>\n",
       "      <td>-0.007764</td>\n",
       "      <td>0</td>\n",
       "      <td>0.673404</td>\n",
       "      <td>1.246350</td>\n",
       "      <td>-0.042264</td>\n",
       "      <td>-0.880689</td>\n",
       "      <td>-1.426410</td>\n",
       "      <td>0.302756</td>\n",
       "      <td>1.51035</td>\n",
       "      <td>1.0</td>\n",
       "      <td>1.0</td>\n",
       "      <td>1</td>\n",
       "      <td>1.0</td>\n",
       "    </tr>\n",
       "    <tr>\n",
       "      <th>7</th>\n",
       "      <td>60.0</td>\n",
       "      <td>0.076510</td>\n",
       "      <td>0</td>\n",
       "      <td>0.076691</td>\n",
       "      <td>2.331306</td>\n",
       "      <td>0.449135</td>\n",
       "      <td>-0.880689</td>\n",
       "      <td>1.129052</td>\n",
       "      <td>0.302756</td>\n",
       "      <td>1.51035</td>\n",
       "      <td>1.0</td>\n",
       "      <td>1.0</td>\n",
       "      <td>1</td>\n",
       "      <td>1.0</td>\n",
       "    </tr>\n",
       "  </tbody>\n",
       "</table>\n",
       "</div>"
      ],
      "text/plain": [
       "   time_completed_viewed    amount  male       age    income  viewed_time  \\\n",
       "0                   54.0 -0.178872     0 -0.639364 -0.310325    -1.844060   \n",
       "2                  120.0 -0.222823     1  0.912089  0.208567    -0.386243   \n",
       "5                   54.0 -0.000723     0  1.866829 -1.017905    -1.876820   \n",
       "6                  168.0 -0.007764     0  0.673404  1.246350    -0.042264   \n",
       "7                   60.0  0.076510     0  0.076691  2.331306     0.449135   \n",
       "\n",
       "   total_reward  membership_days  difficulty  duration  transaction  \\\n",
       "0     -0.880689         0.036974    0.302756   1.51035          1.0   \n",
       "2     -0.424613        -0.788151    0.302756   1.51035          1.0   \n",
       "5     -0.880689        -0.229978    0.302756   1.51035          1.0   \n",
       "6     -0.880689        -1.426410    0.302756   1.51035          1.0   \n",
       "7     -0.880689         1.129052    0.302756   1.51035          1.0   \n",
       "\n",
       "   offer_viewed  offer_received  offer_completed  \n",
       "0           1.0               1              1.0  \n",
       "2           1.0               1              1.0  \n",
       "5           1.0               1              1.0  \n",
       "6           1.0               1              1.0  \n",
       "7           1.0               1              1.0  "
      ]
     },
     "execution_count": 30,
     "metadata": {},
     "output_type": "execute_result"
    }
   ],
   "source": [
    "# Print\n",
    "starbucks.head()"
   ]
  },
  {
   "cell_type": "code",
   "execution_count": 31,
   "metadata": {},
   "outputs": [
    {
     "data": {
      "text/html": [
       "<div>\n",
       "<style scoped>\n",
       "    .dataframe tbody tr th:only-of-type {\n",
       "        vertical-align: middle;\n",
       "    }\n",
       "\n",
       "    .dataframe tbody tr th {\n",
       "        vertical-align: top;\n",
       "    }\n",
       "\n",
       "    .dataframe thead th {\n",
       "        text-align: right;\n",
       "    }\n",
       "</style>\n",
       "<table border=\"1\" class=\"dataframe\">\n",
       "  <thead>\n",
       "    <tr style=\"text-align: right;\">\n",
       "      <th></th>\n",
       "      <th>time_completed_viewed</th>\n",
       "      <th>amount</th>\n",
       "      <th>male</th>\n",
       "      <th>age</th>\n",
       "      <th>income</th>\n",
       "      <th>viewed_time</th>\n",
       "      <th>total_reward</th>\n",
       "      <th>membership_days</th>\n",
       "      <th>difficulty</th>\n",
       "      <th>duration</th>\n",
       "      <th>transaction</th>\n",
       "      <th>offer_viewed</th>\n",
       "      <th>offer_received</th>\n",
       "      <th>offer_completed</th>\n",
       "    </tr>\n",
       "  </thead>\n",
       "  <tbody>\n",
       "    <tr>\n",
       "      <th>0</th>\n",
       "      <td>54.0</td>\n",
       "      <td>-0.178872</td>\n",
       "      <td>0</td>\n",
       "      <td>-0.639364</td>\n",
       "      <td>-0.310325</td>\n",
       "      <td>-1.844060</td>\n",
       "      <td>-0.880689</td>\n",
       "      <td>0.036974</td>\n",
       "      <td>0.302756</td>\n",
       "      <td>1.51035</td>\n",
       "      <td>1.0</td>\n",
       "      <td>1.0</td>\n",
       "      <td>1</td>\n",
       "      <td>1.0</td>\n",
       "    </tr>\n",
       "    <tr>\n",
       "      <th>2</th>\n",
       "      <td>120.0</td>\n",
       "      <td>-0.222823</td>\n",
       "      <td>1</td>\n",
       "      <td>0.912089</td>\n",
       "      <td>0.208567</td>\n",
       "      <td>-0.386243</td>\n",
       "      <td>-0.424613</td>\n",
       "      <td>-0.788151</td>\n",
       "      <td>0.302756</td>\n",
       "      <td>1.51035</td>\n",
       "      <td>1.0</td>\n",
       "      <td>1.0</td>\n",
       "      <td>1</td>\n",
       "      <td>1.0</td>\n",
       "    </tr>\n",
       "    <tr>\n",
       "      <th>5</th>\n",
       "      <td>54.0</td>\n",
       "      <td>-0.000723</td>\n",
       "      <td>0</td>\n",
       "      <td>1.866829</td>\n",
       "      <td>-1.017905</td>\n",
       "      <td>-1.876820</td>\n",
       "      <td>-0.880689</td>\n",
       "      <td>-0.229978</td>\n",
       "      <td>0.302756</td>\n",
       "      <td>1.51035</td>\n",
       "      <td>1.0</td>\n",
       "      <td>1.0</td>\n",
       "      <td>1</td>\n",
       "      <td>1.0</td>\n",
       "    </tr>\n",
       "    <tr>\n",
       "      <th>6</th>\n",
       "      <td>168.0</td>\n",
       "      <td>-0.007764</td>\n",
       "      <td>0</td>\n",
       "      <td>0.673404</td>\n",
       "      <td>1.246350</td>\n",
       "      <td>-0.042264</td>\n",
       "      <td>-0.880689</td>\n",
       "      <td>-1.426410</td>\n",
       "      <td>0.302756</td>\n",
       "      <td>1.51035</td>\n",
       "      <td>1.0</td>\n",
       "      <td>1.0</td>\n",
       "      <td>1</td>\n",
       "      <td>1.0</td>\n",
       "    </tr>\n",
       "    <tr>\n",
       "      <th>7</th>\n",
       "      <td>60.0</td>\n",
       "      <td>0.076510</td>\n",
       "      <td>0</td>\n",
       "      <td>0.076691</td>\n",
       "      <td>2.331306</td>\n",
       "      <td>0.449135</td>\n",
       "      <td>-0.880689</td>\n",
       "      <td>1.129052</td>\n",
       "      <td>0.302756</td>\n",
       "      <td>1.51035</td>\n",
       "      <td>1.0</td>\n",
       "      <td>1.0</td>\n",
       "      <td>1</td>\n",
       "      <td>1.0</td>\n",
       "    </tr>\n",
       "  </tbody>\n",
       "</table>\n",
       "</div>"
      ],
      "text/plain": [
       "   time_completed_viewed    amount  male       age    income  viewed_time  \\\n",
       "0                   54.0 -0.178872     0 -0.639364 -0.310325    -1.844060   \n",
       "2                  120.0 -0.222823     1  0.912089  0.208567    -0.386243   \n",
       "5                   54.0 -0.000723     0  1.866829 -1.017905    -1.876820   \n",
       "6                  168.0 -0.007764     0  0.673404  1.246350    -0.042264   \n",
       "7                   60.0  0.076510     0  0.076691  2.331306     0.449135   \n",
       "\n",
       "   total_reward  membership_days  difficulty  duration  transaction  \\\n",
       "0     -0.880689         0.036974    0.302756   1.51035          1.0   \n",
       "2     -0.424613        -0.788151    0.302756   1.51035          1.0   \n",
       "5     -0.880689        -0.229978    0.302756   1.51035          1.0   \n",
       "6     -0.880689        -1.426410    0.302756   1.51035          1.0   \n",
       "7     -0.880689         1.129052    0.302756   1.51035          1.0   \n",
       "\n",
       "   offer_viewed  offer_received  offer_completed  \n",
       "0           1.0               1              1.0  \n",
       "2           1.0               1              1.0  \n",
       "5           1.0               1              1.0  \n",
       "6           1.0               1              1.0  \n",
       "7           1.0               1              1.0  "
      ]
     },
     "execution_count": 31,
     "metadata": {},
     "output_type": "execute_result"
    }
   ],
   "source": [
    "# For Starbucks df\n",
    "starbucks = starbucks[np.isfinite(starbucks).all(1)]\n",
    "starbucks.head()"
   ]
  },
  {
   "cell_type": "code",
   "execution_count": 32,
   "metadata": {},
   "outputs": [
    {
     "data": {
      "text/plain": [
       "(17228, 14)"
      ]
     },
     "execution_count": 32,
     "metadata": {},
     "output_type": "execute_result"
    }
   ],
   "source": [
    "# Print\n",
    "starbucks.shape"
   ]
  },
  {
   "cell_type": "code",
   "execution_count": 33,
   "metadata": {},
   "outputs": [
    {
     "data": {
      "text/plain": [
       "<matplotlib.axes._subplots.AxesSubplot at 0x26743a86d88>"
      ]
     },
     "execution_count": 33,
     "metadata": {},
     "output_type": "execute_result"
    },
    {
     "data": {
      "image/png": "[encoded data removed]",
      "text/plain": [
       "<Figure size 1080x720 with 1 Axes>"
      ]
     },
     "metadata": {},
     "output_type": "display_data"
    }
   ],
   "source": [
    "# Histogram of time_completed_viewed (log transformed)\n",
    "starbucks.time_completed_viewed.hist(color = '#00704A')\n",
    "# This looks better, almost the normal distribution"
   ]
  },
  {
   "cell_type": "markdown",
   "metadata": {},
   "source": [
    "**Smote**"
   ]
  },
  {
   "cell_type": "code",
   "execution_count": 34,
   "metadata": {},
   "outputs": [],
   "source": [
    "# Create a copy\n",
    "starbucks_smote = starbucks.copy()"
   ]
  },
  {
   "cell_type": "code",
   "execution_count": 35,
   "metadata": {},
   "outputs": [
    {
     "data": {
      "text/html": [
       "<div>\n",
       "<style scoped>\n",
       "    .dataframe tbody tr th:only-of-type {\n",
       "        vertical-align: middle;\n",
       "    }\n",
       "\n",
       "    .dataframe tbody tr th {\n",
       "        vertical-align: top;\n",
       "    }\n",
       "\n",
       "    .dataframe thead th {\n",
       "        text-align: right;\n",
       "    }\n",
       "</style>\n",
       "<table border=\"1\" class=\"dataframe\">\n",
       "  <thead>\n",
       "    <tr style=\"text-align: right;\">\n",
       "      <th></th>\n",
       "      <th>time_completed_viewed</th>\n",
       "      <th>amount</th>\n",
       "      <th>male</th>\n",
       "      <th>age</th>\n",
       "      <th>income</th>\n",
       "      <th>viewed_time</th>\n",
       "      <th>total_reward</th>\n",
       "      <th>membership_days</th>\n",
       "      <th>difficulty</th>\n",
       "      <th>duration</th>\n",
       "      <th>transaction</th>\n",
       "      <th>offer_viewed</th>\n",
       "      <th>offer_received</th>\n",
       "      <th>offer_completed</th>\n",
       "    </tr>\n",
       "  </thead>\n",
       "  <tbody>\n",
       "    <tr>\n",
       "      <th>0</th>\n",
       "      <td>54.0</td>\n",
       "      <td>-0.178872</td>\n",
       "      <td>0</td>\n",
       "      <td>-0.639364</td>\n",
       "      <td>-0.310325</td>\n",
       "      <td>-1.844060</td>\n",
       "      <td>-0.880689</td>\n",
       "      <td>0.036974</td>\n",
       "      <td>0.302756</td>\n",
       "      <td>1.51035</td>\n",
       "      <td>1.0</td>\n",
       "      <td>1.0</td>\n",
       "      <td>1</td>\n",
       "      <td>1.0</td>\n",
       "    </tr>\n",
       "    <tr>\n",
       "      <th>2</th>\n",
       "      <td>120.0</td>\n",
       "      <td>-0.222823</td>\n",
       "      <td>1</td>\n",
       "      <td>0.912089</td>\n",
       "      <td>0.208567</td>\n",
       "      <td>-0.386243</td>\n",
       "      <td>-0.424613</td>\n",
       "      <td>-0.788151</td>\n",
       "      <td>0.302756</td>\n",
       "      <td>1.51035</td>\n",
       "      <td>1.0</td>\n",
       "      <td>1.0</td>\n",
       "      <td>1</td>\n",
       "      <td>1.0</td>\n",
       "    </tr>\n",
       "    <tr>\n",
       "      <th>5</th>\n",
       "      <td>54.0</td>\n",
       "      <td>-0.000723</td>\n",
       "      <td>0</td>\n",
       "      <td>1.866829</td>\n",
       "      <td>-1.017905</td>\n",
       "      <td>-1.876820</td>\n",
       "      <td>-0.880689</td>\n",
       "      <td>-0.229978</td>\n",
       "      <td>0.302756</td>\n",
       "      <td>1.51035</td>\n",
       "      <td>1.0</td>\n",
       "      <td>1.0</td>\n",
       "      <td>1</td>\n",
       "      <td>1.0</td>\n",
       "    </tr>\n",
       "    <tr>\n",
       "      <th>6</th>\n",
       "      <td>168.0</td>\n",
       "      <td>-0.007764</td>\n",
       "      <td>0</td>\n",
       "      <td>0.673404</td>\n",
       "      <td>1.246350</td>\n",
       "      <td>-0.042264</td>\n",
       "      <td>-0.880689</td>\n",
       "      <td>-1.426410</td>\n",
       "      <td>0.302756</td>\n",
       "      <td>1.51035</td>\n",
       "      <td>1.0</td>\n",
       "      <td>1.0</td>\n",
       "      <td>1</td>\n",
       "      <td>1.0</td>\n",
       "    </tr>\n",
       "    <tr>\n",
       "      <th>7</th>\n",
       "      <td>60.0</td>\n",
       "      <td>0.076510</td>\n",
       "      <td>0</td>\n",
       "      <td>0.076691</td>\n",
       "      <td>2.331306</td>\n",
       "      <td>0.449135</td>\n",
       "      <td>-0.880689</td>\n",
       "      <td>1.129052</td>\n",
       "      <td>0.302756</td>\n",
       "      <td>1.51035</td>\n",
       "      <td>1.0</td>\n",
       "      <td>1.0</td>\n",
       "      <td>1</td>\n",
       "      <td>1.0</td>\n",
       "    </tr>\n",
       "  </tbody>\n",
       "</table>\n",
       "</div>"
      ],
      "text/plain": [
       "   time_completed_viewed    amount  male       age    income  viewed_time  \\\n",
       "0                   54.0 -0.178872     0 -0.639364 -0.310325    -1.844060   \n",
       "2                  120.0 -0.222823     1  0.912089  0.208567    -0.386243   \n",
       "5                   54.0 -0.000723     0  1.866829 -1.017905    -1.876820   \n",
       "6                  168.0 -0.007764     0  0.673404  1.246350    -0.042264   \n",
       "7                   60.0  0.076510     0  0.076691  2.331306     0.449135   \n",
       "\n",
       "   total_reward  membership_days  difficulty  duration  transaction  \\\n",
       "0     -0.880689         0.036974    0.302756   1.51035          1.0   \n",
       "2     -0.424613        -0.788151    0.302756   1.51035          1.0   \n",
       "5     -0.880689        -0.229978    0.302756   1.51035          1.0   \n",
       "6     -0.880689        -1.426410    0.302756   1.51035          1.0   \n",
       "7     -0.880689         1.129052    0.302756   1.51035          1.0   \n",
       "\n",
       "   offer_viewed  offer_received  offer_completed  \n",
       "0           1.0               1              1.0  \n",
       "2           1.0               1              1.0  \n",
       "5           1.0               1              1.0  \n",
       "6           1.0               1              1.0  \n",
       "7           1.0               1              1.0  "
      ]
     },
     "execution_count": 35,
     "metadata": {},
     "output_type": "execute_result"
    }
   ],
   "source": [
    "# Print\n",
    "starbucks_smote.head()"
   ]
  },
  {
   "cell_type": "markdown",
   "metadata": {},
   "source": [
    "Now we need a dataset, which has classification elements - 0 and 1.\n",
    "\n",
    "The problem here - this decision is quiet arbitrary, we have tremendous outliers on both sides of our dataset.\n",
    "\n",
    "So how to assign 1 and 0, how many rows to select?\n",
    "\n",
    "I would try to make a decision, based on quantiles"
   ]
  },
  {
   "cell_type": "code",
   "execution_count": 36,
   "metadata": {},
   "outputs": [
    {
     "data": {
      "text/html": [
       "<div>\n",
       "<style scoped>\n",
       "    .dataframe tbody tr th:only-of-type {\n",
       "        vertical-align: middle;\n",
       "    }\n",
       "\n",
       "    .dataframe tbody tr th {\n",
       "        vertical-align: top;\n",
       "    }\n",
       "\n",
       "    .dataframe thead th {\n",
       "        text-align: right;\n",
       "    }\n",
       "</style>\n",
       "<table border=\"1\" class=\"dataframe\">\n",
       "  <thead>\n",
       "    <tr style=\"text-align: right;\">\n",
       "      <th></th>\n",
       "      <th>time_completed_viewed</th>\n",
       "      <th>amount</th>\n",
       "      <th>male</th>\n",
       "      <th>age</th>\n",
       "      <th>income</th>\n",
       "      <th>viewed_time</th>\n",
       "      <th>total_reward</th>\n",
       "      <th>membership_days</th>\n",
       "      <th>difficulty</th>\n",
       "      <th>duration</th>\n",
       "      <th>transaction</th>\n",
       "      <th>offer_viewed</th>\n",
       "      <th>offer_received</th>\n",
       "      <th>offer_completed</th>\n",
       "    </tr>\n",
       "  </thead>\n",
       "  <tbody>\n",
       "    <tr>\n",
       "      <th>0.10</th>\n",
       "      <td>6.0</td>\n",
       "      <td>-0.382624</td>\n",
       "      <td>0.0</td>\n",
       "      <td>-1.415090</td>\n",
       "      <td>-1.348109</td>\n",
       "      <td>-1.713020</td>\n",
       "      <td>-0.880689</td>\n",
       "      <td>-1.113348</td>\n",
       "      <td>-1.099438</td>\n",
       "      <td>-1.238817</td>\n",
       "      <td>1.0</td>\n",
       "      <td>1.0</td>\n",
       "      <td>1.0</td>\n",
       "      <td>1.0</td>\n",
       "    </tr>\n",
       "    <tr>\n",
       "      <th>0.25</th>\n",
       "      <td>18.0</td>\n",
       "      <td>-0.272374</td>\n",
       "      <td>0.0</td>\n",
       "      <td>-0.639364</td>\n",
       "      <td>-0.734873</td>\n",
       "      <td>-0.861262</td>\n",
       "      <td>-0.652651</td>\n",
       "      <td>-0.805139</td>\n",
       "      <td>-0.538560</td>\n",
       "      <td>-1.238817</td>\n",
       "      <td>1.0</td>\n",
       "      <td>1.0</td>\n",
       "      <td>1.0</td>\n",
       "      <td>1.0</td>\n",
       "    </tr>\n",
       "    <tr>\n",
       "      <th>0.50</th>\n",
       "      <td>42.0</td>\n",
       "      <td>-0.130441</td>\n",
       "      <td>1.0</td>\n",
       "      <td>0.017020</td>\n",
       "      <td>-0.074465</td>\n",
       "      <td>0.121536</td>\n",
       "      <td>-0.196575</td>\n",
       "      <td>-0.188722</td>\n",
       "      <td>0.302756</td>\n",
       "      <td>-0.139150</td>\n",
       "      <td>1.0</td>\n",
       "      <td>1.0</td>\n",
       "      <td>1.0</td>\n",
       "      <td>1.0</td>\n",
       "    </tr>\n",
       "    <tr>\n",
       "      <th>0.95</th>\n",
       "      <td>168.0</td>\n",
       "      <td>0.544380</td>\n",
       "      <td>1.0</td>\n",
       "      <td>1.628144</td>\n",
       "      <td>1.812414</td>\n",
       "      <td>1.333653</td>\n",
       "      <td>0.943615</td>\n",
       "      <td>2.086804</td>\n",
       "      <td>3.107143</td>\n",
       "      <td>1.510350</td>\n",
       "      <td>1.0</td>\n",
       "      <td>1.0</td>\n",
       "      <td>1.0</td>\n",
       "      <td>1.0</td>\n",
       "    </tr>\n",
       "  </tbody>\n",
       "</table>\n",
       "</div>"
      ],
      "text/plain": [
       "      time_completed_viewed    amount  male       age    income  viewed_time  \\\n",
       "0.10                    6.0 -0.382624   0.0 -1.415090 -1.348109    -1.713020   \n",
       "0.25                   18.0 -0.272374   0.0 -0.639364 -0.734873    -0.861262   \n",
       "0.50                   42.0 -0.130441   1.0  0.017020 -0.074465     0.121536   \n",
       "0.95                  168.0  0.544380   1.0  1.628144  1.812414     1.333653   \n",
       "\n",
       "      total_reward  membership_days  difficulty  duration  transaction  \\\n",
       "0.10     -0.880689        -1.113348   -1.099438 -1.238817          1.0   \n",
       "0.25     -0.652651        -0.805139   -0.538560 -1.238817          1.0   \n",
       "0.50     -0.196575        -0.188722    0.302756 -0.139150          1.0   \n",
       "0.95      0.943615         2.086804    3.107143  1.510350          1.0   \n",
       "\n",
       "      offer_viewed  offer_received  offer_completed  \n",
       "0.10           1.0             1.0              1.0  \n",
       "0.25           1.0             1.0              1.0  \n",
       "0.50           1.0             1.0              1.0  \n",
       "0.95           1.0             1.0              1.0  "
      ]
     },
     "execution_count": 36,
     "metadata": {},
     "output_type": "execute_result"
    }
   ],
   "source": [
    "# Check quantiles\n",
    "starbucks_smote.quantile([.1, .25, .5, .95], axis = 0) "
   ]
  },
  {
   "cell_type": "code",
   "execution_count": 37,
   "metadata": {},
   "outputs": [],
   "source": [
    "# Now I would like to split the dataframe into two parts\n",
    "starbucks0 = starbucks_smote[starbucks_smote.time_completed_viewed < 168]\n",
    "starbucks1 = starbucks_smote[starbucks_smote.time_completed_viewed >= 168]"
   ]
  },
  {
   "cell_type": "code",
   "execution_count": 38,
   "metadata": {
    "scrolled": true
   },
   "outputs": [
    {
     "name": "stdout",
     "output_type": "stream",
     "text": [
      "(16344, 14)\n",
      "(884, 14)\n"
     ]
    }
   ],
   "source": [
    "# Print dimensions\n",
    "print(starbucks0.shape)\n",
    "print(starbucks1.shape)"
   ]
  },
  {
   "cell_type": "code",
   "execution_count": 39,
   "metadata": {},
   "outputs": [
    {
     "name": "stderr",
     "output_type": "stream",
     "text": [
      "C:\\Users\\oleks\\Anaconda3\\lib\\site-packages\\ipykernel_launcher.py:2: SettingWithCopyWarning: \n",
      "A value is trying to be set on a copy of a slice from a DataFrame.\n",
      "Try using .loc[row_indexer,col_indexer] = value instead\n",
      "\n",
      "See the caveats in the documentation: https://pandas.pydata.org/pandas-docs/stable/user_guide/indexing.html#returning-a-view-versus-a-copy\n",
      "  \n",
      "C:\\Users\\oleks\\Anaconda3\\lib\\site-packages\\ipykernel_launcher.py:3: SettingWithCopyWarning: \n",
      "A value is trying to be set on a copy of a slice from a DataFrame.\n",
      "Try using .loc[row_indexer,col_indexer] = value instead\n",
      "\n",
      "See the caveats in the documentation: https://pandas.pydata.org/pandas-docs/stable/user_guide/indexing.html#returning-a-view-versus-a-copy\n",
      "  This is separate from the ipykernel package so we can avoid doing imports until\n"
     ]
    }
   ],
   "source": [
    "# Now we need to assign 0 and 1 to these columns\n",
    "starbucks0['label'] = 0\n",
    "starbucks1['label'] = 1"
   ]
  },
  {
   "cell_type": "code",
   "execution_count": 40,
   "metadata": {},
   "outputs": [
    {
     "name": "stdout",
     "output_type": "stream",
     "text": [
      "   time_completed_viewed    amount  male       age    income  viewed_time  \\\n",
      "0                   54.0 -0.178872     0 -0.639364 -0.310325    -1.844060   \n",
      "2                  120.0 -0.222823     1  0.912089  0.208567    -0.386243   \n",
      "\n",
      "   total_reward  membership_days  difficulty  duration  transaction  \\\n",
      "0     -0.880689         0.036974    0.302756   1.51035          1.0   \n",
      "2     -0.424613        -0.788151    0.302756   1.51035          1.0   \n",
      "\n",
      "   offer_viewed  offer_received  offer_completed  label  \n",
      "0           1.0               1              1.0      0  \n",
      "2           1.0               1              1.0      0  \n",
      "    time_completed_viewed    amount  male       age    income  viewed_time  \\\n",
      "6                   168.0 -0.007764     0  0.673404  1.246350    -0.042264   \n",
      "18                  384.0  0.778652     0  1.031432  0.491599    -1.844060   \n",
      "\n",
      "    total_reward  membership_days  difficulty  duration  transaction  \\\n",
      "6      -0.880689        -1.426410    0.302756   1.51035          1.0   \n",
      "18     -0.424613        -0.678944    0.302756   1.51035          1.0   \n",
      "\n",
      "    offer_viewed  offer_received  offer_completed  label  \n",
      "6            1.0               1              1.0      1  \n",
      "18           1.0               1              1.0      1  \n"
     ]
    }
   ],
   "source": [
    "# Check new columns\n",
    "print(starbucks0.head(2))\n",
    "print(starbucks1.head(2))"
   ]
  },
  {
   "cell_type": "code",
   "execution_count": 41,
   "metadata": {},
   "outputs": [],
   "source": [
    "# Now we need to rbind() two dataframes\n",
    "starbucks_smoted = starbucks0.append(starbucks1)"
   ]
  },
  {
   "cell_type": "code",
   "execution_count": 42,
   "metadata": {},
   "outputs": [
    {
     "data": {
      "text/plain": [
       "(17228, 15)"
      ]
     },
     "execution_count": 42,
     "metadata": {},
     "output_type": "execute_result"
    }
   ],
   "source": [
    "# Dimensions\n",
    "starbucks_smoted.shape\n",
    "# We can see that now we have the same dataframe but with different classes assigned"
   ]
  },
  {
   "cell_type": "code",
   "execution_count": 43,
   "metadata": {},
   "outputs": [
    {
     "data": {
      "text/html": [
       "<div>\n",
       "<style scoped>\n",
       "    .dataframe tbody tr th:only-of-type {\n",
       "        vertical-align: middle;\n",
       "    }\n",
       "\n",
       "    .dataframe tbody tr th {\n",
       "        vertical-align: top;\n",
       "    }\n",
       "\n",
       "    .dataframe thead th {\n",
       "        text-align: right;\n",
       "    }\n",
       "</style>\n",
       "<table border=\"1\" class=\"dataframe\">\n",
       "  <thead>\n",
       "    <tr style=\"text-align: right;\">\n",
       "      <th></th>\n",
       "      <th>time_completed_viewed</th>\n",
       "      <th>amount</th>\n",
       "      <th>male</th>\n",
       "      <th>age</th>\n",
       "      <th>income</th>\n",
       "      <th>viewed_time</th>\n",
       "      <th>total_reward</th>\n",
       "      <th>membership_days</th>\n",
       "      <th>difficulty</th>\n",
       "      <th>duration</th>\n",
       "      <th>transaction</th>\n",
       "      <th>offer_viewed</th>\n",
       "      <th>offer_received</th>\n",
       "      <th>offer_completed</th>\n",
       "      <th>label</th>\n",
       "    </tr>\n",
       "  </thead>\n",
       "  <tbody>\n",
       "    <tr>\n",
       "      <th>0</th>\n",
       "      <td>54.0</td>\n",
       "      <td>-0.178872</td>\n",
       "      <td>0</td>\n",
       "      <td>-0.639364</td>\n",
       "      <td>-0.310325</td>\n",
       "      <td>-1.844060</td>\n",
       "      <td>-0.880689</td>\n",
       "      <td>0.036974</td>\n",
       "      <td>0.302756</td>\n",
       "      <td>1.51035</td>\n",
       "      <td>1.0</td>\n",
       "      <td>1.0</td>\n",
       "      <td>1</td>\n",
       "      <td>1.0</td>\n",
       "      <td>0</td>\n",
       "    </tr>\n",
       "    <tr>\n",
       "      <th>2</th>\n",
       "      <td>120.0</td>\n",
       "      <td>-0.222823</td>\n",
       "      <td>1</td>\n",
       "      <td>0.912089</td>\n",
       "      <td>0.208567</td>\n",
       "      <td>-0.386243</td>\n",
       "      <td>-0.424613</td>\n",
       "      <td>-0.788151</td>\n",
       "      <td>0.302756</td>\n",
       "      <td>1.51035</td>\n",
       "      <td>1.0</td>\n",
       "      <td>1.0</td>\n",
       "      <td>1</td>\n",
       "      <td>1.0</td>\n",
       "      <td>0</td>\n",
       "    </tr>\n",
       "    <tr>\n",
       "      <th>5</th>\n",
       "      <td>54.0</td>\n",
       "      <td>-0.000723</td>\n",
       "      <td>0</td>\n",
       "      <td>1.866829</td>\n",
       "      <td>-1.017905</td>\n",
       "      <td>-1.876820</td>\n",
       "      <td>-0.880689</td>\n",
       "      <td>-0.229978</td>\n",
       "      <td>0.302756</td>\n",
       "      <td>1.51035</td>\n",
       "      <td>1.0</td>\n",
       "      <td>1.0</td>\n",
       "      <td>1</td>\n",
       "      <td>1.0</td>\n",
       "      <td>0</td>\n",
       "    </tr>\n",
       "    <tr>\n",
       "      <th>7</th>\n",
       "      <td>60.0</td>\n",
       "      <td>0.076510</td>\n",
       "      <td>0</td>\n",
       "      <td>0.076691</td>\n",
       "      <td>2.331306</td>\n",
       "      <td>0.449135</td>\n",
       "      <td>-0.880689</td>\n",
       "      <td>1.129052</td>\n",
       "      <td>0.302756</td>\n",
       "      <td>1.51035</td>\n",
       "      <td>1.0</td>\n",
       "      <td>1.0</td>\n",
       "      <td>1</td>\n",
       "      <td>1.0</td>\n",
       "      <td>0</td>\n",
       "    </tr>\n",
       "    <tr>\n",
       "      <th>8</th>\n",
       "      <td>36.0</td>\n",
       "      <td>0.215189</td>\n",
       "      <td>1</td>\n",
       "      <td>-0.341007</td>\n",
       "      <td>0.821802</td>\n",
       "      <td>1.399173</td>\n",
       "      <td>-0.880689</td>\n",
       "      <td>-0.637687</td>\n",
       "      <td>0.302756</td>\n",
       "      <td>1.51035</td>\n",
       "      <td>1.0</td>\n",
       "      <td>1.0</td>\n",
       "      <td>1</td>\n",
       "      <td>1.0</td>\n",
       "      <td>0</td>\n",
       "    </tr>\n",
       "  </tbody>\n",
       "</table>\n",
       "</div>"
      ],
      "text/plain": [
       "   time_completed_viewed    amount  male       age    income  viewed_time  \\\n",
       "0                   54.0 -0.178872     0 -0.639364 -0.310325    -1.844060   \n",
       "2                  120.0 -0.222823     1  0.912089  0.208567    -0.386243   \n",
       "5                   54.0 -0.000723     0  1.866829 -1.017905    -1.876820   \n",
       "7                   60.0  0.076510     0  0.076691  2.331306     0.449135   \n",
       "8                   36.0  0.215189     1 -0.341007  0.821802     1.399173   \n",
       "\n",
       "   total_reward  membership_days  difficulty  duration  transaction  \\\n",
       "0     -0.880689         0.036974    0.302756   1.51035          1.0   \n",
       "2     -0.424613        -0.788151    0.302756   1.51035          1.0   \n",
       "5     -0.880689        -0.229978    0.302756   1.51035          1.0   \n",
       "7     -0.880689         1.129052    0.302756   1.51035          1.0   \n",
       "8     -0.880689        -0.637687    0.302756   1.51035          1.0   \n",
       "\n",
       "   offer_viewed  offer_received  offer_completed  label  \n",
       "0           1.0               1              1.0      0  \n",
       "2           1.0               1              1.0      0  \n",
       "5           1.0               1              1.0      0  \n",
       "7           1.0               1              1.0      0  \n",
       "8           1.0               1              1.0      0  "
      ]
     },
     "execution_count": 43,
     "metadata": {},
     "output_type": "execute_result"
    }
   ],
   "source": [
    "# Print\n",
    "starbucks_smoted.head()"
   ]
  },
  {
   "cell_type": "markdown",
   "metadata": {},
   "source": [
    "**2. Modelling**\n",
    "\n",
    "**2.1. Decision tree**"
   ]
  },
  {
   "cell_type": "code",
   "execution_count": 94,
   "metadata": {},
   "outputs": [
    {
     "data": {
      "text/plain": [
       "0    0\n",
       "2    0\n",
       "5    0\n",
       "7    0\n",
       "8    0\n",
       "Name: label, dtype: int64"
      ]
     },
     "execution_count": 94,
     "metadata": {},
     "output_type": "execute_result"
    }
   ],
   "source": [
    "# Split data\n",
    "y = starbucks_smoted.iloc[:, -1]\n",
    "X = starbucks_smoted.drop('label', axis = 1)\n",
    "\n",
    "# Print y\n",
    "y.head(5)"
   ]
  },
  {
   "cell_type": "code",
   "execution_count": 95,
   "metadata": {},
   "outputs": [
    {
     "name": "stdout",
     "output_type": "stream",
     "text": [
      "Counter({0: 16344, 1: 884})\n"
     ]
    }
   ],
   "source": [
    "# Count labels by type\n",
    "counter = Counter(y)\n",
    "print(counter)"
   ]
  },
  {
   "cell_type": "code",
   "execution_count": 96,
   "metadata": {},
   "outputs": [],
   "source": [
    "# Transform the dataset\n",
    "oversample = SMOTE()\n",
    "X, y = oversample.fit_resample(X, y)"
   ]
  },
  {
   "cell_type": "code",
   "execution_count": 97,
   "metadata": {},
   "outputs": [
    {
     "name": "stdout",
     "output_type": "stream",
     "text": [
      "Counter({0: 16344, 1: 16344})\n"
     ]
    }
   ],
   "source": [
    " # Print the oversampled dataset\n",
    "counter = Counter(y)\n",
    "print(counter)"
   ]
  },
  {
   "cell_type": "code",
   "execution_count": 98,
   "metadata": {},
   "outputs": [],
   "source": [
    "# Save as csv\n",
    "# days_smote = pd.DataFrame(X)\n",
    "# days_smote['label'] = y\n",
    "# days_smote.to_csv('days_smote.csv')"
   ]
  },
  {
   "cell_type": "code",
   "execution_count": 48,
   "metadata": {},
   "outputs": [],
   "source": [
    "# Split data\n",
    "X_train, X_test, y_train, y_test = train_test_split(X, y, test_size = 0.2)"
   ]
  },
  {
   "cell_type": "code",
   "execution_count": 49,
   "metadata": {},
   "outputs": [
    {
     "name": "stdout",
     "output_type": "stream",
     "text": [
      "Test set RMSE of Decision Tree Regression: 0.00000\n",
      "CV RMSE from decision tree regression: 0.00618\n",
      "Train RMSE from decision tree regression: 0.00000\n"
     ]
    }
   ],
   "source": [
    "dtr = DecisionTreeRegressor(max_depth=10)\n",
    "\n",
    "# fit data to the model\n",
    "dtr.fit(X_train, y_train)\n",
    "\n",
    "# Compute y_pred\n",
    "dtr_y_pred = dtr.predict(X_test)\n",
    "\n",
    "# Compute mse_dt\n",
    "mse_dtr = MSE(y_test, dtr_y_pred)\n",
    "\n",
    "# Compute rmse_dt\n",
    "rmse_dtr = mse_dtr**(1/2)\n",
    "\n",
    "# Print rmse_dt\n",
    "print(\"Test set RMSE of Decision Tree Regression: {:.5f}\".format(rmse_dtr))\n",
    "\n",
    "# Compute the array containing the 10-folds CV MSEs\n",
    "dtr_MSE_CV_scores = - cross_val_score(dtr, X_train, y_train, cv=10, \n",
    "                                  scoring='neg_mean_squared_error', \n",
    "                                  n_jobs=-1) \n",
    "\n",
    "# Compute the 10-folds CV RMSE\n",
    "dtr_RMSE_CV = (dtr_MSE_CV_scores.mean())**(1/2)\n",
    "\n",
    "# Print RMSE_CV\n",
    "print('CV RMSE from decision tree regression: {:.5f}'.format(dtr_RMSE_CV))\n",
    "\n",
    "# Fit dt to the training set\n",
    "dtr.fit(X_train, y_train)\n",
    "\n",
    "# Predict the labels of the training set\n",
    "dtr_y_pred_train = dtr.predict(X_train)\n",
    "\n",
    "# Evaluate the training set RMSE of dt\n",
    "dtr_RMSE_train = (MSE(y_train, dtr_y_pred_train))**(1/2)\n",
    "\n",
    "# Print RMSE_train\n",
    "print('Train RMSE from decision tree regression: {:.5f}'.format(dtr_RMSE_train))"
   ]
  },
  {
   "cell_type": "markdown",
   "metadata": {},
   "source": [
    "**2.2. Random Forest**"
   ]
  },
  {
   "cell_type": "code",
   "execution_count": 50,
   "metadata": {},
   "outputs": [
    {
     "name": "stdout",
     "output_type": "stream",
     "text": [
      "Test set RMSE of rf: 0.00000\n",
      "Train set RMSE of rf: 0.00233\n",
      "CV RMSE from random forest regression: 0.00618\n"
     ]
    }
   ],
   "source": [
    "# Set seed for reproducibility\n",
    "SEED = 1\n",
    "\n",
    "# Split dataset into 80% train and 20% test\n",
    "X_train, X_test, y_train, y_test = \\\n",
    "train_test_split(X, y,\n",
    "test_size = 0.2,\n",
    "random_state = SEED)\n",
    "\n",
    "# Instantiate a random forests regressor 'rf' 400 estimators\n",
    "rf = RandomForestRegressor(n_estimators = 400,\n",
    "min_samples_leaf = 0.1,\n",
    "random_state = SEED)\n",
    "\n",
    "# Fit 'rf' to the training set\n",
    "rf.fit(X_train, y_train)\n",
    "# Predict the test set labels 'y_pred'\n",
    "y_pred = rf.predict(X_test)\n",
    "y_pred_train=rf.predict(X_train)\n",
    "# Evaluate the test set RMSE\n",
    "rmse_test = MSE(y_test, y_pred)**(1/2)\n",
    "rmse_train = MSE(y_train, y_pred_train)**(1/2)\n",
    "# Print the test set RMSE\n",
    "print('Test set RMSE of rf: {:.5f}'.format(rmse_test))\n",
    "print('Train set RMSE of rf: {:.5f}'.format(rmse_train))\n",
    "\n",
    "# Compute the array containing the 10-folds CV MSEs\n",
    "rf_MSE_CV_scores = - cross_val_score(rf, X_train, y_train, cv=10, \n",
    "                                  scoring='neg_mean_squared_error', \n",
    "                                  n_jobs=-1) \n",
    "\n",
    "rf_RMSE_CV = (rf_MSE_CV_scores.mean())**(1/2)\n",
    "\n",
    "# Print RMSE_CV\n",
    "print('CV RMSE from random forest regression: {:.5f}'.format(rf_RMSE_CV))"
   ]
  },
  {
   "cell_type": "markdown",
   "metadata": {},
   "source": [
    "**2.3. Gradient Boosting**"
   ]
  },
  {
   "cell_type": "code",
   "execution_count": 51,
   "metadata": {},
   "outputs": [
    {
     "name": "stdout",
     "output_type": "stream",
     "text": [
      "Test set RMSE of gb: 0.00000\n",
      "Train set RMSE of gb: 0.00233\n",
      "CV RMSE from Gradient Boosting Regression: 0.00618\n"
     ]
    }
   ],
   "source": [
    "# Instantiate gb\n",
    "gb = GradientBoostingRegressor(# max_depth = 10,\n",
    "                               n_estimators = 400,\n",
    "                               random_state = 1)\n",
    "\n",
    "# Fit gb to the training set\n",
    "gb.fit(X_train, y_train)\n",
    "\n",
    "# Predict test set labels\n",
    "y_pred_Gboost = gb.predict(X_test)\n",
    "\n",
    "# Import mean_squared_error as MSE\n",
    "from sklearn.metrics import mean_squared_error as MSE\n",
    "\n",
    "# Compute RMSE\n",
    "\n",
    "rmse_test = MSE(y_test, y_pred)**(1/2)\n",
    "rmse_train = MSE(y_train, y_pred_train)**(1/2)\n",
    "\n",
    "# Print the test set RMSE\n",
    "print('Test set RMSE of gb: {:.5f}'.format(rmse_test))\n",
    "print('Train set RMSE of gb: {:.5f}'.format(rmse_train))\n",
    "\n",
    "# Compute the array containing the 10-folds CV MSEs\n",
    "gb_MSE_CV_scores = - cross_val_score(gb, X_train, y_train, cv = 10, \n",
    "                                  scoring = 'neg_mean_squared_error', \n",
    "                                  n_jobs=-1) \n",
    "\n",
    "# Compute the 10-folds CV RMSE\n",
    "gb_RMSE_CV = (gb_MSE_CV_scores.mean())**(1/2)\n",
    "\n",
    "# Print RMSE_CV\n",
    "print('CV RMSE from Gradient Boosting Regression: {:.5f}'.format(gb_RMSE_CV))"
   ]
  },
  {
   "cell_type": "markdown",
   "metadata": {},
   "source": [
    "**2.4. SVM**"
   ]
  },
  {
   "cell_type": "code",
   "execution_count": 52,
   "metadata": {},
   "outputs": [
    {
     "name": "stdout",
     "output_type": "stream",
     "text": [
      "Test set RMSE of Support Vector Regression: 0.12128\n",
      "CV RMSE from Support Vector Regression: 0.11838\n",
      "Train RMSE from Support Vector Regression: 0.11827\n"
     ]
    }
   ],
   "source": [
    "# Build the model\n",
    "svr = SVR()\n",
    "\n",
    "# fit data to the model\n",
    "svr.fit(X_train, y_train)\n",
    "\n",
    "# Compute y_pred\n",
    "svr_y_pred = svr.predict(X_test)\n",
    "\n",
    "# Compute mse_svr\n",
    "mse_svr = MSE(y_test, svr_y_pred)\n",
    "\n",
    "# Compute rmse_svr\n",
    "rmse_svr = mse_svr**(1/2)\n",
    "\n",
    "# Print rmse_dt\n",
    "print(\"Test set RMSE of Support Vector Regression: {:.5f}\".format(rmse_svr))\n",
    "\n",
    "# CV RMSE validation\n",
    "\n",
    "# Compute the array containing the 10-folds CV MSEs\n",
    "svr_MSE_CV_scores = - cross_val_score(svr, X_train, y_train, cv=10, \n",
    "                                  scoring='neg_mean_squared_error', \n",
    "                                  n_jobs=-1) \n",
    "# Compute the 10-folds CV RMSE\n",
    "svr_RMSE_CV = (svr_MSE_CV_scores.mean())**(1/2)\n",
    "\n",
    "# Print RMSE_CV\n",
    "print('CV RMSE from Support Vector Regression: {:.5f}'.format(svr_RMSE_CV))\n",
    "\n",
    "# Predict the labels of the training set\n",
    "svr_y_pred_train = svr.predict(X_train)\n",
    "\n",
    "# Evaluate the training set RMSE of dt\n",
    "svr_RMSE_train = (MSE(y_train, svr_y_pred_train))**(1/2)\n",
    "\n",
    "# Print RMSE_train\n",
    "print('Train RMSE from Support Vector Regression: {:.5f}'.format(svr_RMSE_train))"
   ]
  },
  {
   "cell_type": "markdown",
   "metadata": {},
   "source": [
    "**2.5. KNN**"
   ]
  },
  {
   "cell_type": "code",
   "execution_count": 53,
   "metadata": {},
   "outputs": [
    {
     "name": "stdout",
     "output_type": "stream",
     "text": [
      "Test set RMSE of k-nearest neighbors Regression: 0.00989\n",
      "CV RMSE from k-nearest neighbors regression: 0.01092\n",
      "Train RMSE from k-nearest neighbors Regression: 0.00830\n"
     ]
    }
   ],
   "source": [
    "# Build the model\n",
    "knn = KNeighborsRegressor()\n",
    "\n",
    "# fit data to the model\n",
    "knn.fit(X_train, y_train)\n",
    "\n",
    "# Compute y_pred\n",
    "knn_y_pred = knn.predict(X_test)\n",
    "\n",
    "# Compute mse_knn\n",
    "mse_knn = MSE(y_test, knn_y_pred)\n",
    "\n",
    "# Compute rmse_knn\n",
    "rmse_knn = mse_knn**(1/2)\n",
    "\n",
    "# Print rmse_dt\n",
    "print(\"Test set RMSE of k-nearest neighbors Regression: {:.5f}\".format(rmse_knn))\n",
    "\n",
    "# CV RMSE validation\n",
    "# Compute the array containing the 10-folds CV MSEs\n",
    "knn_MSE_CV_scores = - cross_val_score(knn, X_train, y_train, cv=10, \n",
    "                                  scoring='neg_mean_squared_error', \n",
    "                                  n_jobs=-1) \n",
    "\n",
    "# Compute the 10-folds CV RMSE\n",
    "knn_RMSE_CV = (knn_MSE_CV_scores.mean())**(1/2)\n",
    "\n",
    "# Print RMSE_CV\n",
    "print('CV RMSE from k-nearest neighbors regression: {:.5f}'.format(knn_RMSE_CV))\n",
    "\n",
    "# Predict the labels of the training set\n",
    "knn_y_pred_train = knn.predict(X_train)\n",
    "\n",
    "# Evaluate the training set RMSE of dt\n",
    "knn_RMSE_train = (MSE(y_train, knn_y_pred_train))**(1/2)\n",
    "\n",
    "# Print RMSE_train\n",
    "print('Train RMSE from k-nearest neighbors Regression: {:.5f}'.format(knn_RMSE_train))"
   ]
  },
  {
   "cell_type": "markdown",
   "metadata": {},
   "source": [
    "**2.6. AdaBoost**"
   ]
  },
  {
   "cell_type": "code",
   "execution_count": 54,
   "metadata": {},
   "outputs": [
    {
     "name": "stdout",
     "output_type": "stream",
     "text": [
      "Test set RMSE of Ada Boost Regression: 0.00000\n",
      "CV RMSE from Ada Boost Regression: 0.00618\n",
      "Train RMSE from Ada Boost Regression: 0.00000\n"
     ]
    }
   ],
   "source": [
    "# Build the model\n",
    "abr = AdaBoostRegressor(base_estimator=dtr, n_estimators=180)\n",
    "\n",
    "# fit data to the model\n",
    "abr.fit(X_train, y_train)\n",
    "\n",
    "# Compute y_pred\n",
    "abr_y_pred = abr.predict(X_test)\n",
    "\n",
    "# Compute mse_abr\n",
    "mse_abr = MSE(y_test, abr_y_pred)\n",
    "\n",
    "# Compute rmse_abr\n",
    "rmse_abr = mse_abr**(1/2)\n",
    "\n",
    "# Print rmse_dt\n",
    "print(\"Test set RMSE of Ada Boost Regression: {:.5f}\".format(rmse_abr))\n",
    "\n",
    "# Compute the array containing the 10-folds CV MSEs\n",
    "abr_MSE_CV_scores = - cross_val_score(abr, X_train, y_train, cv=10, \n",
    "                                  scoring='neg_mean_squared_error', \n",
    "                                  n_jobs=-1) \n",
    "\n",
    "# Compute the 10-folds CV RMSE\n",
    "abr_RMSE_CV = (abr_MSE_CV_scores.mean())**(1/2)\n",
    "\n",
    "# Print RMSE_CV\n",
    "print('CV RMSE from Ada Boost Regression: {:.5f}'.format(abr_RMSE_CV))\n",
    "\n",
    "# Predict the labels of the training set\n",
    "abr_y_pred_train = abr.predict(X_train)\n",
    "\n",
    "# Evaluate the training set RMSE of dt\n",
    "abr_RMSE_train = (MSE(y_train, abr_y_pred_train))**(1/2)\n",
    "\n",
    "# Print RMSE_train\n",
    "print('Train RMSE from Ada Boost Regression: {:.5f}'.format(abr_RMSE_train))"
   ]
  },
  {
   "cell_type": "markdown",
   "metadata": {},
   "source": [
    "**3. Conclusion and interpretation of results**\n",
    "\n",
    "After training, testing, and cross validating six models, we receive good and consistent results. \n",
    "\n",
    "| Algorithm | Train RMSE | Test RMSE | CV RMSE |\n",
    "| --- | --- | --- | --- |\n",
    "| Decision Tree | 0.00000 | 0.00000 | 0.00618  |\n",
    "| Random Forest | 0.00233 | 0.00000 | 0.00618  |\n",
    "| Gradient Boosting | 0.00223 | 0.00000 | 0.00618 |\n",
    "| SVM | 0.11827 | 0.12128 | 0.11838 |\n",
    "| KNN | 0.00830 | 0.00989 | 0.01092 |\n",
    "| Ada Boosting | 0.00000 | 0.00000 | 0.00618 |\n",
    "\n",
    "We started from the approach that **our dependent variable was log-transformed**. \n",
    "\n",
    "Hence, it must be interpreted, using the following approach:\n",
    "\n",
    "Source: https://stats.stackexchange.com/questions/18480/interpretation-of-log-transformed-predictor-and-or-response\n",
    "\n",
    "`log(Y) = Intercept + B1 * X + Error`\n",
    "\n",
    "`One unit increase in X is associated with a (B1 * 100) percent increase in Y.`\n",
    "\n",
    "But after applying `SMOTE()`, we achieved good and consistent results (above). \n",
    "\n",
    "**Why predicting this variable is important?**\n",
    "\n",
    "Being able to predict this variable `time_completed_viewed`, we will be able to target certaing customers additionally (or not not bother them). For example, if we can predict the time difference and some customers take much more time, we can send them one more reminder. At the same time, we will not bother other customers, who are expected to complete offer soon and annoy them with additional spam."
   ]
  },
  {
   "cell_type": "markdown",
   "metadata": {},
   "source": [
    "**4. PyCaret Regression**\n",
    "\n",
    "Source: https://github.com/pycaret/pycaret/blob/master/examples/PyCaret%202%20Regression.ipynb"
   ]
  },
  {
   "cell_type": "code",
   "execution_count": 99,
   "metadata": {},
   "outputs": [
    {
     "data": {
      "text/html": [
       "<div>\n",
       "<style scoped>\n",
       "    .dataframe tbody tr th:only-of-type {\n",
       "        vertical-align: middle;\n",
       "    }\n",
       "\n",
       "    .dataframe tbody tr th {\n",
       "        vertical-align: top;\n",
       "    }\n",
       "\n",
       "    .dataframe thead th {\n",
       "        text-align: right;\n",
       "    }\n",
       "</style>\n",
       "<table border=\"1\" class=\"dataframe\">\n",
       "  <thead>\n",
       "    <tr style=\"text-align: right;\">\n",
       "      <th></th>\n",
       "      <th>Unnamed: 0</th>\n",
       "      <th>time_completed_viewed</th>\n",
       "      <th>amount</th>\n",
       "      <th>male</th>\n",
       "      <th>age</th>\n",
       "      <th>income</th>\n",
       "      <th>viewed_time</th>\n",
       "      <th>total_reward</th>\n",
       "      <th>membership_days</th>\n",
       "      <th>difficulty</th>\n",
       "      <th>duration</th>\n",
       "      <th>transaction</th>\n",
       "      <th>offer_viewed</th>\n",
       "      <th>offer_received</th>\n",
       "      <th>offer_completed</th>\n",
       "      <th>label</th>\n",
       "    </tr>\n",
       "  </thead>\n",
       "  <tbody>\n",
       "    <tr>\n",
       "      <th>0</th>\n",
       "      <td>0</td>\n",
       "      <td>54.0</td>\n",
       "      <td>-0.178872</td>\n",
       "      <td>0</td>\n",
       "      <td>-0.639364</td>\n",
       "      <td>-0.310325</td>\n",
       "      <td>-1.844060</td>\n",
       "      <td>-0.880689</td>\n",
       "      <td>0.036974</td>\n",
       "      <td>0.302756</td>\n",
       "      <td>1.51035</td>\n",
       "      <td>1.0</td>\n",
       "      <td>1.0</td>\n",
       "      <td>1</td>\n",
       "      <td>1.0</td>\n",
       "      <td>0</td>\n",
       "    </tr>\n",
       "    <tr>\n",
       "      <th>1</th>\n",
       "      <td>1</td>\n",
       "      <td>120.0</td>\n",
       "      <td>-0.222823</td>\n",
       "      <td>1</td>\n",
       "      <td>0.912089</td>\n",
       "      <td>0.208567</td>\n",
       "      <td>-0.386243</td>\n",
       "      <td>-0.424613</td>\n",
       "      <td>-0.788151</td>\n",
       "      <td>0.302756</td>\n",
       "      <td>1.51035</td>\n",
       "      <td>1.0</td>\n",
       "      <td>1.0</td>\n",
       "      <td>1</td>\n",
       "      <td>1.0</td>\n",
       "      <td>0</td>\n",
       "    </tr>\n",
       "    <tr>\n",
       "      <th>2</th>\n",
       "      <td>2</td>\n",
       "      <td>54.0</td>\n",
       "      <td>-0.000723</td>\n",
       "      <td>0</td>\n",
       "      <td>1.866829</td>\n",
       "      <td>-1.017905</td>\n",
       "      <td>-1.876820</td>\n",
       "      <td>-0.880689</td>\n",
       "      <td>-0.229978</td>\n",
       "      <td>0.302756</td>\n",
       "      <td>1.51035</td>\n",
       "      <td>1.0</td>\n",
       "      <td>1.0</td>\n",
       "      <td>1</td>\n",
       "      <td>1.0</td>\n",
       "      <td>0</td>\n",
       "    </tr>\n",
       "    <tr>\n",
       "      <th>3</th>\n",
       "      <td>3</td>\n",
       "      <td>60.0</td>\n",
       "      <td>0.076510</td>\n",
       "      <td>0</td>\n",
       "      <td>0.076691</td>\n",
       "      <td>2.331306</td>\n",
       "      <td>0.449135</td>\n",
       "      <td>-0.880689</td>\n",
       "      <td>1.129052</td>\n",
       "      <td>0.302756</td>\n",
       "      <td>1.51035</td>\n",
       "      <td>1.0</td>\n",
       "      <td>1.0</td>\n",
       "      <td>1</td>\n",
       "      <td>1.0</td>\n",
       "      <td>0</td>\n",
       "    </tr>\n",
       "    <tr>\n",
       "      <th>4</th>\n",
       "      <td>4</td>\n",
       "      <td>36.0</td>\n",
       "      <td>0.215189</td>\n",
       "      <td>1</td>\n",
       "      <td>-0.341007</td>\n",
       "      <td>0.821802</td>\n",
       "      <td>1.399173</td>\n",
       "      <td>-0.880689</td>\n",
       "      <td>-0.637687</td>\n",
       "      <td>0.302756</td>\n",
       "      <td>1.51035</td>\n",
       "      <td>1.0</td>\n",
       "      <td>1.0</td>\n",
       "      <td>1</td>\n",
       "      <td>1.0</td>\n",
       "      <td>0</td>\n",
       "    </tr>\n",
       "  </tbody>\n",
       "</table>\n",
       "</div>"
      ],
      "text/plain": [
       "   Unnamed: 0  time_completed_viewed    amount  male       age    income  \\\n",
       "0           0                   54.0 -0.178872     0 -0.639364 -0.310325   \n",
       "1           1                  120.0 -0.222823     1  0.912089  0.208567   \n",
       "2           2                   54.0 -0.000723     0  1.866829 -1.017905   \n",
       "3           3                   60.0  0.076510     0  0.076691  2.331306   \n",
       "4           4                   36.0  0.215189     1 -0.341007  0.821802   \n",
       "\n",
       "   viewed_time  total_reward  membership_days  difficulty  duration  \\\n",
       "0    -1.844060     -0.880689         0.036974    0.302756   1.51035   \n",
       "1    -0.386243     -0.424613        -0.788151    0.302756   1.51035   \n",
       "2    -1.876820     -0.880689        -0.229978    0.302756   1.51035   \n",
       "3     0.449135     -0.880689         1.129052    0.302756   1.51035   \n",
       "4     1.399173     -0.880689        -0.637687    0.302756   1.51035   \n",
       "\n",
       "   transaction  offer_viewed  offer_received  offer_completed  label  \n",
       "0          1.0           1.0               1              1.0      0  \n",
       "1          1.0           1.0               1              1.0      0  \n",
       "2          1.0           1.0               1              1.0      0  \n",
       "3          1.0           1.0               1              1.0      0  \n",
       "4          1.0           1.0               1              1.0      0  "
      ]
     },
     "execution_count": 99,
     "metadata": {},
     "output_type": "execute_result"
    }
   ],
   "source": [
    "# Read clean data\n",
    "starbucks_days = pd.read_csv('days_smote.csv')\n",
    "\n",
    "# Print\n",
    "starbucks_days.head()"
   ]
  },
  {
   "cell_type": "code",
   "execution_count": 100,
   "metadata": {},
   "outputs": [],
   "source": [
    "# Drop a column\n",
    "starbucks_days = starbucks_days.drop(['Unnamed: 0'], axis = 1)"
   ]
  },
  {
   "cell_type": "code",
   "execution_count": 101,
   "metadata": {},
   "outputs": [],
   "source": [
    "# Drop a column\n",
    "starbucks_days = starbucks_days.drop(['transaction', 'offer_viewed', 'offer_received', 'offer_completed'], axis = 1)"
   ]
  },
  {
   "cell_type": "code",
   "execution_count": 102,
   "metadata": {},
   "outputs": [],
   "source": [
    "# Drop a column\n",
    "starbucks_days = starbucks_days.drop(['label'], axis = 1)"
   ]
  },
  {
   "cell_type": "code",
   "execution_count": 87,
   "metadata": {},
   "outputs": [
    {
     "data": {
      "text/html": [
       "<div>\n",
       "<style scoped>\n",
       "    .dataframe tbody tr th:only-of-type {\n",
       "        vertical-align: middle;\n",
       "    }\n",
       "\n",
       "    .dataframe tbody tr th {\n",
       "        vertical-align: top;\n",
       "    }\n",
       "\n",
       "    .dataframe thead th {\n",
       "        text-align: right;\n",
       "    }\n",
       "</style>\n",
       "<table border=\"1\" class=\"dataframe\">\n",
       "  <thead>\n",
       "    <tr style=\"text-align: right;\">\n",
       "      <th></th>\n",
       "      <th>time_completed_viewed</th>\n",
       "      <th>amount</th>\n",
       "      <th>male</th>\n",
       "      <th>age</th>\n",
       "      <th>income</th>\n",
       "      <th>viewed_time</th>\n",
       "      <th>total_reward</th>\n",
       "      <th>membership_days</th>\n",
       "      <th>difficulty</th>\n",
       "      <th>duration</th>\n",
       "    </tr>\n",
       "  </thead>\n",
       "  <tbody>\n",
       "    <tr>\n",
       "      <th>0</th>\n",
       "      <td>54.0</td>\n",
       "      <td>-0.178872</td>\n",
       "      <td>0</td>\n",
       "      <td>-0.639364</td>\n",
       "      <td>-0.310325</td>\n",
       "      <td>-1.844060</td>\n",
       "      <td>-0.880689</td>\n",
       "      <td>0.036974</td>\n",
       "      <td>0.302756</td>\n",
       "      <td>1.51035</td>\n",
       "    </tr>\n",
       "    <tr>\n",
       "      <th>1</th>\n",
       "      <td>120.0</td>\n",
       "      <td>-0.222823</td>\n",
       "      <td>1</td>\n",
       "      <td>0.912089</td>\n",
       "      <td>0.208567</td>\n",
       "      <td>-0.386243</td>\n",
       "      <td>-0.424613</td>\n",
       "      <td>-0.788151</td>\n",
       "      <td>0.302756</td>\n",
       "      <td>1.51035</td>\n",
       "    </tr>\n",
       "    <tr>\n",
       "      <th>2</th>\n",
       "      <td>54.0</td>\n",
       "      <td>-0.000723</td>\n",
       "      <td>0</td>\n",
       "      <td>1.866829</td>\n",
       "      <td>-1.017905</td>\n",
       "      <td>-1.876820</td>\n",
       "      <td>-0.880689</td>\n",
       "      <td>-0.229978</td>\n",
       "      <td>0.302756</td>\n",
       "      <td>1.51035</td>\n",
       "    </tr>\n",
       "    <tr>\n",
       "      <th>3</th>\n",
       "      <td>60.0</td>\n",
       "      <td>0.076510</td>\n",
       "      <td>0</td>\n",
       "      <td>0.076691</td>\n",
       "      <td>2.331306</td>\n",
       "      <td>0.449135</td>\n",
       "      <td>-0.880689</td>\n",
       "      <td>1.129052</td>\n",
       "      <td>0.302756</td>\n",
       "      <td>1.51035</td>\n",
       "    </tr>\n",
       "    <tr>\n",
       "      <th>4</th>\n",
       "      <td>36.0</td>\n",
       "      <td>0.215189</td>\n",
       "      <td>1</td>\n",
       "      <td>-0.341007</td>\n",
       "      <td>0.821802</td>\n",
       "      <td>1.399173</td>\n",
       "      <td>-0.880689</td>\n",
       "      <td>-0.637687</td>\n",
       "      <td>0.302756</td>\n",
       "      <td>1.51035</td>\n",
       "    </tr>\n",
       "  </tbody>\n",
       "</table>\n",
       "</div>"
      ],
      "text/plain": [
       "   time_completed_viewed    amount  male       age    income  viewed_time  \\\n",
       "0                   54.0 -0.178872     0 -0.639364 -0.310325    -1.844060   \n",
       "1                  120.0 -0.222823     1  0.912089  0.208567    -0.386243   \n",
       "2                   54.0 -0.000723     0  1.866829 -1.017905    -1.876820   \n",
       "3                   60.0  0.076510     0  0.076691  2.331306     0.449135   \n",
       "4                   36.0  0.215189     1 -0.341007  0.821802     1.399173   \n",
       "\n",
       "   total_reward  membership_days  difficulty  duration  \n",
       "0     -0.880689         0.036974    0.302756   1.51035  \n",
       "1     -0.424613        -0.788151    0.302756   1.51035  \n",
       "2     -0.880689        -0.229978    0.302756   1.51035  \n",
       "3     -0.880689         1.129052    0.302756   1.51035  \n",
       "4     -0.880689        -0.637687    0.302756   1.51035  "
      ]
     },
     "execution_count": 87,
     "metadata": {},
     "output_type": "execute_result"
    }
   ],
   "source": [
    "# Print\n",
    "starbucks_days.head()"
   ]
  },
  {
   "cell_type": "code",
   "execution_count": 103,
   "metadata": {},
   "outputs": [
    {
     "data": {
      "text/plain": [
       "time_completed_viewed    float64\n",
       "amount                   float64\n",
       "male                       int64\n",
       "age                      float64\n",
       "income                   float64\n",
       "viewed_time              float64\n",
       "total_reward             float64\n",
       "membership_days          float64\n",
       "difficulty               float64\n",
       "duration                 float64\n",
       "dtype: object"
      ]
     },
     "execution_count": 103,
     "metadata": {},
     "output_type": "execute_result"
    }
   ],
   "source": [
    "# Check types\n",
    "starbucks_days.dtypes"
   ]
  },
  {
   "cell_type": "code",
   "execution_count": 104,
   "metadata": {},
   "outputs": [
    {
     "data": {
      "text/plain": [
       "pandas.core.frame.DataFrame"
      ]
     },
     "execution_count": 104,
     "metadata": {},
     "output_type": "execute_result"
    }
   ],
   "source": [
    "type(starbucks_days)"
   ]
  },
  {
   "cell_type": "code",
   "execution_count": 105,
   "metadata": {},
   "outputs": [
    {
     "data": {
      "text/plain": [
       "6.000000      1682\n",
       "12.000000     1503\n",
       "18.000000     1318\n",
       "24.000000     1212\n",
       "174.000000    1068\n",
       "              ... \n",
       "444.107530       1\n",
       "226.213225       1\n",
       "411.947513       1\n",
       "236.001744       1\n",
       "394.722944       1\n",
       "Name: time_completed_viewed, Length: 3572, dtype: int64"
      ]
     },
     "execution_count": 105,
     "metadata": {},
     "output_type": "execute_result"
    }
   ],
   "source": [
    "starbucks_days['time_completed_viewed'].value_counts()"
   ]
  }
 ],
 "metadata": {
  "kernelspec": {
   "display_name": "Python 3",
   "language": "python",
   "name": "python3"
  },
  "language_info": {
   "codemirror_mode": {
    "name": "ipython",
    "version": 3
   },
   "file_extension": ".py",
   "mimetype": "text/x-python",
   "name": "python",
   "nbconvert_exporter": "python",
   "pygments_lexer": "ipython3",
   "version": "3.7.4"
  }
 },
 "nbformat": 4,
 "nbformat_minor": 2
}
